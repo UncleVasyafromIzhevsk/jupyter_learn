{
 "cells": [
  {
   "cell_type": "markdown",
   "id": "d1e99fe0-3584-455d-8ded-01b5cbe259c6",
   "metadata": {},
   "source": [
    "# Установка библиотек\n",
    "## Установка pandas\n",
    "Для установки pandas:\n",
    "> Сначала устанавливаем numpy==1.24.2 и только после этого pandas==1.5.3\n",
    "## Руссификация\n",
    "> pip install jupyterlab-language-pack-ru-RU и после установки перезапуск и все работает само\n",
    "## Если нужен Pillow"
   ]
  },
  {
   "cell_type": "code",
   "execution_count": 2,
   "id": "5d52cefb-0f77-4c27-ab44-ca3ab691d44b",
   "metadata": {
    "collapsed": true,
    "jupyter": {
     "outputs_hidden": true,
     "source_hidden": true
    }
   },
   "outputs": [
    {
     "name": "stdout",
     "output_type": "stream",
     "text": [
      "Collecting numpy==1.24.2\n",
      "  Using cached numpy-1.24.2-cp311-cp311-linux_i686.whl\n",
      "Installing collected packages: numpy\n",
      "Successfully installed numpy-1.24.2\n"
     ]
    }
   ],
   "source": [
    "!pip install numpy==1.24.2"
   ]
  },
  {
   "cell_type": "code",
   "execution_count": 3,
   "id": "3b3736fc-9e6c-4102-adcb-797e9560c41b",
   "metadata": {
    "collapsed": true,
    "jupyter": {
     "outputs_hidden": true,
     "source_hidden": true
    }
   },
   "outputs": [
    {
     "name": "stdout",
     "output_type": "stream",
     "text": [
      "Collecting pandas==1.5.3\n",
      "  Using cached pandas-1.5.3-cp311-cp311-linux_i686.whl\n",
      "Requirement already satisfied: python-dateutil>=2.8.1 in ./venv/lib/python3.11/site-packages (from pandas==1.5.3) (2.9.0.post0)\n",
      "Collecting pytz>=2020.1\n",
      "  Using cached pytz-2024.2-py2.py3-none-any.whl (508 kB)\n",
      "Requirement already satisfied: numpy>=1.21.0 in ./venv/lib/python3.11/site-packages (from pandas==1.5.3) (1.24.2)\n",
      "Requirement already satisfied: six>=1.5 in ./venv/lib/python3.11/site-packages (from python-dateutil>=2.8.1->pandas==1.5.3) (1.16.0)\n",
      "Installing collected packages: pytz, pandas\n",
      "Successfully installed pandas-1.5.3 pytz-2024.2\n"
     ]
    }
   ],
   "source": [
    "!pip install pandas==1.5.3"
   ]
  },
  {
   "cell_type": "code",
   "execution_count": 5,
   "id": "fe1be8ea-b5f0-4f98-a70f-ed9355c6b788",
   "metadata": {
    "collapsed": true,
    "jupyter": {
     "outputs_hidden": true,
     "source_hidden": true
    }
   },
   "outputs": [
    {
     "name": "stdout",
     "output_type": "stream",
     "text": [
      "Collecting jupyterlab-language-pack-ru-RU\n",
      "  Downloading jupyterlab_language_pack_ru_ru-4.2.post3-py2.py3-none-any.whl (200 kB)\n",
      "\u001b[2K     \u001b[38;2;114;156;31m━━━━━━━━━━━━━━━━━━━━━━━━━━━━━━━━━━━━━\u001b[0m \u001b[32m200.3/200.3 kB\u001b[0m \u001b[31m412.9 kB/s\u001b[0m eta \u001b[36m0:00:00\u001b[0m1m458.0 kB/s\u001b[0m eta \u001b[36m0:00:01\u001b[0m\n",
      "\u001b[?25hInstalling collected packages: jupyterlab-language-pack-ru-RU\n",
      "Successfully installed jupyterlab-language-pack-ru-RU-4.2.post3\n"
     ]
    }
   ],
   "source": [
    "!pip install jupyterlab-language-pack-ru-RU"
   ]
  }
 ],
 "metadata": {
  "kernelspec": {
   "display_name": "Python 3 (ipykernel)",
   "language": "python",
   "name": "python3"
  },
  "language_info": {
   "codemirror_mode": {
    "name": "ipython",
    "version": 3
   },
   "file_extension": ".py",
   "mimetype": "text/x-python",
   "name": "python",
   "nbconvert_exporter": "python",
   "pygments_lexer": "ipython3",
   "version": "3.11.2"
  }
 },
 "nbformat": 4,
 "nbformat_minor": 5
}
